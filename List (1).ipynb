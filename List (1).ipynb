{
 "cells": [
  {
   "cell_type": "code",
   "execution_count": 1,
   "id": "673e2f0c-0ca2-495b-89e2-cdd416b5e8e1",
   "metadata": {},
   "outputs": [
    {
     "name": "stdout",
     "output_type": "stream",
     "text": [
      "1. Initial list: ['Superman', 'Batman', 'Wonder Woman', 'Flash', 'Aquaman', 'Green Lantern']\n",
      "2. Number of members: 6\n",
      "3. After adding Batgirl and Nightwing: ['Superman', 'Batman', 'Wonder Woman', 'Flash', 'Aquaman', 'Green Lantern', 'Batgirl', 'Nightwing']\n",
      "4. After moving Wonder Woman to front: ['Wonder Woman', 'Superman', 'Batman', 'Flash', 'Aquaman', 'Green Lantern', 'Batgirl', 'Nightwing']\n",
      "5. After placing Superman between Aquaman and Flash: ['Wonder Woman', 'Batman', 'Flash', 'Aquaman', 'Superman', 'Green Lantern', 'Batgirl', 'Nightwing']\n",
      "6. After replacing with new team: ['Cyborg', 'Shazam', 'Hawkgirl', 'Martian Manhunter', 'Green Arrow']\n",
      "7. Sorted list: ['Cyborg', 'Green Arrow', 'Hawkgirl', 'Martian Manhunter', 'Shazam']\n",
      "8. New leader: Cyborg\n"
     ]
    }
   ],
   "source": [
    "# You have a list of superheroes representing the Justice League. justice_league = [\"Superman\", \"Batman\", \"Wonder Woman\", \"Flash\", \"Aquaman\", \"Green Lantern\"] \n",
    "# tasks performed Initial list\n",
    "justice_league = [\"Superman\", \"Batman\", \"Wonder Woman\", \"Flash\", \"Aquaman\", \"Green Lantern\"]\n",
    "print(\"1. Initial list:\", justice_league)\n",
    "\n",
    "# 1. Count the number of members\n",
    "print(\"2. Number of members:\", len(justice_league))\n",
    "\n",
    "# 2. Add Batgirl and Nightwing\n",
    "justice_league.append(\"Batgirl\")\n",
    "justice_league.append(\"Nightwing\")\n",
    "print(\"3. After adding Batgirl and Nightwing:\", justice_league)\n",
    "\n",
    "# 3. Move Wonder Woman to the beginning\n",
    "justice_league.remove(\"Wonder Woman\")\n",
    "justice_league.insert(0, \"Wonder Woman\")\n",
    "print(\"4. After moving Wonder Woman to front:\", justice_league)\n",
    "\n",
    "# 4. Separate Aquaman and Flash by placing Superman in between\n",
    "justice_league.remove(\"Superman\")\n",
    "aquaman_index = justice_league.index(\"Aquaman\")\n",
    "justice_league.insert(aquaman_index + 1, \"Superman\")\n",
    "print(\"5. After placing Superman between Aquaman and Flash:\", justice_league)\n",
    "\n",
    "# 5. Crisis: Replace entire list with new members\n",
    "justice_league = [\"Cyborg\", \"Shazam\", \"Hawkgirl\", \"Martian Manhunter\", \"Green Arrow\"]\n",
    "print(\"6. After replacing with new team:\", justice_league)\n",
    "\n",
    "# 6. Sort alphabetically\n",
    "justice_league.sort()\n",
    "print(\"7. Sorted list:\", justice_league)\n",
    "print(\"8. New leader:\", justice_league[0])\n"
   ]
  }
 ],
 "metadata": {
  "kernelspec": {
   "display_name": "Python [conda env:base] *",
   "language": "python",
   "name": "conda-base-py"
  },
  "language_info": {
   "codemirror_mode": {
    "name": "ipython",
    "version": 3
   },
   "file_extension": ".py",
   "mimetype": "text/x-python",
   "name": "python",
   "nbconvert_exporter": "python",
   "pygments_lexer": "ipython3",
   "version": "3.12.7"
  }
 },
 "nbformat": 4,
 "nbformat_minor": 5
}

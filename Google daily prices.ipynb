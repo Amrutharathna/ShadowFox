{
 "cells": [
  {
   "cell_type": "code",
   "execution_count": 4,
   "id": "3f459f1a-efd3-447e-9a8c-f9cb9986195d",
   "metadata": {},
   "outputs": [
    {
     "name": "stdout",
     "output_type": "stream",
     "text": [
      "Requirement already satisfied: kagglehub in c:\\users\\mr\\anaconda3\\lib\\site-packages (0.3.12)\n",
      "Requirement already satisfied: packaging in c:\\users\\mr\\anaconda3\\lib\\site-packages (from kagglehub) (24.1)\n",
      "Requirement already satisfied: pyyaml in c:\\users\\mr\\anaconda3\\lib\\site-packages (from kagglehub) (6.0.1)\n",
      "Requirement already satisfied: requests in c:\\users\\mr\\anaconda3\\lib\\site-packages (from kagglehub) (2.32.3)\n",
      "Requirement already satisfied: tqdm in c:\\users\\mr\\anaconda3\\lib\\site-packages (from kagglehub) (4.66.5)\n",
      "Requirement already satisfied: charset-normalizer<4,>=2 in c:\\users\\mr\\anaconda3\\lib\\site-packages (from requests->kagglehub) (3.3.2)\n",
      "Requirement already satisfied: idna<4,>=2.5 in c:\\users\\mr\\anaconda3\\lib\\site-packages (from requests->kagglehub) (3.7)\n",
      "Requirement already satisfied: urllib3<3,>=1.21.1 in c:\\users\\mr\\anaconda3\\lib\\site-packages (from requests->kagglehub) (2.2.3)\n",
      "Requirement already satisfied: certifi>=2017.4.17 in c:\\users\\mr\\anaconda3\\lib\\site-packages (from requests->kagglehub) (2025.1.31)\n",
      "Requirement already satisfied: colorama in c:\\users\\mr\\anaconda3\\lib\\site-packages (from tqdm->kagglehub) (0.4.6)\n"
     ]
    }
   ],
   "source": [
    "!pip install kagglehub"
   ]
  },
  {
   "cell_type": "code",
   "execution_count": 6,
   "id": "baee1234-e1a4-48c6-b5e9-1a23eafa61f2",
   "metadata": {},
   "outputs": [
    {
     "name": "stdout",
     "output_type": "stream",
     "text": [
      "Downloading from https://www.kaggle.com/api/v1/datasets/download/emrekaany/google-daily-stock-prices-2004-today?dataset_version_number=31...\n"
     ]
    },
    {
     "name": "stderr",
     "output_type": "stream",
     "text": [
      "100%|█████████████████████████████████████████████████████████████████████████████████████████████████████████████████████████████████████████████████████████████████████████| 94.6k/94.6k [00:00<00:00, 417kB/s]"
     ]
    },
    {
     "name": "stdout",
     "output_type": "stream",
     "text": [
      "Extracting files...\n",
      "Path to dataset files: C:\\Users\\mr\\.cache\\kagglehub\\datasets\\emrekaany\\google-daily-stock-prices-2004-today\\versions\\31\n"
     ]
    },
    {
     "name": "stderr",
     "output_type": "stream",
     "text": [
      "\n"
     ]
    }
   ],
   "source": [
    "import kagglehub\n",
    "\n",
    "# Download latest version\n",
    "path = kagglehub.dataset_download(\"emrekaany/google-daily-stock-prices-2004-today\")\n",
    "\n",
    "print(\"Path to dataset files:\", path)"
   ]
  },
  {
   "cell_type": "code",
   "execution_count": 10,
   "id": "515eac9a-cda6-4d21-9bbf-20c47e1653ad",
   "metadata": {},
   "outputs": [
    {
     "name": "stdout",
     "output_type": "stream",
     "text": [
      "['googl_daily_prices.csv']\n"
     ]
    }
   ],
   "source": [
    "import os\n",
    "\n",
    "folder_path = r'C:\\Users\\mr\\.cache\\kagglehub\\datasets\\emrekaany\\google-daily-stock-prices-2004-today\\versions\\31'\n",
    "\n",
    "# List files\n",
    "print(os.listdir(folder_path))\n"
   ]
  },
  {
   "cell_type": "code",
   "execution_count": 18,
   "id": "d1b0d16d-5b5b-444d-9be4-01e769df0e29",
   "metadata": {},
   "outputs": [
    {
     "name": "stdout",
     "output_type": "stream",
     "text": [
      "Requirement already satisfied: pandas in c:\\users\\mr\\anaconda3\\lib\\site-packages (2.2.2)\n",
      "Requirement already satisfied: numpy>=1.26.0 in c:\\users\\mr\\anaconda3\\lib\\site-packages (from pandas) (1.26.4)\n",
      "Requirement already satisfied: python-dateutil>=2.8.2 in c:\\users\\mr\\anaconda3\\lib\\site-packages (from pandas) (2.9.0.post0)\n",
      "Requirement already satisfied: pytz>=2020.1 in c:\\users\\mr\\anaconda3\\lib\\site-packages (from pandas) (2024.1)\n",
      "Requirement already satisfied: tzdata>=2022.7 in c:\\users\\mr\\anaconda3\\lib\\site-packages (from pandas) (2023.3)\n",
      "Requirement already satisfied: six>=1.5 in c:\\users\\mr\\anaconda3\\lib\\site-packages (from python-dateutil>=2.8.2->pandas) (1.16.0)\n"
     ]
    }
   ],
   "source": [
    "!pip install pandas\n"
   ]
  },
  {
   "cell_type": "code",
   "execution_count": 20,
   "id": "79455318-c8b2-41e3-8d3e-6cfdf02ce0c4",
   "metadata": {},
   "outputs": [
    {
     "name": "stdout",
     "output_type": "stream",
     "text": [
      "['googl_daily_prices.csv']\n"
     ]
    }
   ],
   "source": [
    "import os\n",
    "\n",
    "folder_path = r\"C:\\Users\\mr\\.cache\\kagglehub\\datasets\\emrekaany\\google-daily-stock-prices-2004-today\\versions\\31\"\n",
    "print(os.listdir(folder_path))\n"
   ]
  },
  {
   "cell_type": "code",
   "execution_count": 26,
   "id": "cfd211c8-2fac-4d7d-afb4-ad0c0e7c78d5",
   "metadata": {},
   "outputs": [],
   "source": [
    "import pandas as pd         # For loading and manipulating data\n",
    "import numpy as np          # For numerical operations (optional but helpful)\n",
    "import matplotlib.pyplot as plt  # For basic plotting and visualization\n",
    "import seaborn as sns       # For more advanced and prettier visualizations\n"
   ]
  },
  {
   "cell_type": "code",
   "execution_count": 28,
   "id": "4af039ee-c506-44c6-8fbb-63909faff105",
   "metadata": {},
   "outputs": [
    {
     "name": "stdout",
     "output_type": "stream",
     "text": [
      "Requirement already satisfied: numpy in c:\\users\\mr\\anaconda3\\lib\\site-packages (1.26.4)\n"
     ]
    }
   ],
   "source": [
    "!pip install numpy"
   ]
  },
  {
   "cell_type": "code",
   "execution_count": 30,
   "id": "966b5893-545d-4577-b511-270b5cdc6d9b",
   "metadata": {},
   "outputs": [
    {
     "name": "stdout",
     "output_type": "stream",
     "text": [
      "Requirement already satisfied: matplotlib in c:\\users\\mr\\anaconda3\\lib\\site-packages (3.9.2)\n",
      "Requirement already satisfied: contourpy>=1.0.1 in c:\\users\\mr\\anaconda3\\lib\\site-packages (from matplotlib) (1.2.0)\n",
      "Requirement already satisfied: cycler>=0.10 in c:\\users\\mr\\anaconda3\\lib\\site-packages (from matplotlib) (0.11.0)\n",
      "Requirement already satisfied: fonttools>=4.22.0 in c:\\users\\mr\\anaconda3\\lib\\site-packages (from matplotlib) (4.51.0)\n",
      "Requirement already satisfied: kiwisolver>=1.3.1 in c:\\users\\mr\\anaconda3\\lib\\site-packages (from matplotlib) (1.4.4)\n",
      "Requirement already satisfied: numpy>=1.23 in c:\\users\\mr\\anaconda3\\lib\\site-packages (from matplotlib) (1.26.4)\n",
      "Requirement already satisfied: packaging>=20.0 in c:\\users\\mr\\anaconda3\\lib\\site-packages (from matplotlib) (24.1)\n",
      "Requirement already satisfied: pillow>=8 in c:\\users\\mr\\anaconda3\\lib\\site-packages (from matplotlib) (10.4.0)\n",
      "Requirement already satisfied: pyparsing>=2.3.1 in c:\\users\\mr\\anaconda3\\lib\\site-packages (from matplotlib) (3.1.2)\n",
      "Requirement already satisfied: python-dateutil>=2.7 in c:\\users\\mr\\anaconda3\\lib\\site-packages (from matplotlib) (2.9.0.post0)\n",
      "Requirement already satisfied: six>=1.5 in c:\\users\\mr\\anaconda3\\lib\\site-packages (from python-dateutil>=2.7->matplotlib) (1.16.0)\n"
     ]
    }
   ],
   "source": [
    "!pip install matplotlib"
   ]
  },
  {
   "cell_type": "code",
   "execution_count": 32,
   "id": "8ea5f656-d708-4662-813c-fce4b886876e",
   "metadata": {},
   "outputs": [
    {
     "name": "stdout",
     "output_type": "stream",
     "text": [
      "Requirement already satisfied: seaborn in c:\\users\\mr\\anaconda3\\lib\\site-packages (0.13.2)\n",
      "Requirement already satisfied: numpy!=1.24.0,>=1.20 in c:\\users\\mr\\anaconda3\\lib\\site-packages (from seaborn) (1.26.4)\n",
      "Requirement already satisfied: pandas>=1.2 in c:\\users\\mr\\anaconda3\\lib\\site-packages (from seaborn) (2.2.2)\n",
      "Requirement already satisfied: matplotlib!=3.6.1,>=3.4 in c:\\users\\mr\\anaconda3\\lib\\site-packages (from seaborn) (3.9.2)\n",
      "Requirement already satisfied: contourpy>=1.0.1 in c:\\users\\mr\\anaconda3\\lib\\site-packages (from matplotlib!=3.6.1,>=3.4->seaborn) (1.2.0)\n",
      "Requirement already satisfied: cycler>=0.10 in c:\\users\\mr\\anaconda3\\lib\\site-packages (from matplotlib!=3.6.1,>=3.4->seaborn) (0.11.0)\n",
      "Requirement already satisfied: fonttools>=4.22.0 in c:\\users\\mr\\anaconda3\\lib\\site-packages (from matplotlib!=3.6.1,>=3.4->seaborn) (4.51.0)\n",
      "Requirement already satisfied: kiwisolver>=1.3.1 in c:\\users\\mr\\anaconda3\\lib\\site-packages (from matplotlib!=3.6.1,>=3.4->seaborn) (1.4.4)\n",
      "Requirement already satisfied: packaging>=20.0 in c:\\users\\mr\\anaconda3\\lib\\site-packages (from matplotlib!=3.6.1,>=3.4->seaborn) (24.1)\n",
      "Requirement already satisfied: pillow>=8 in c:\\users\\mr\\anaconda3\\lib\\site-packages (from matplotlib!=3.6.1,>=3.4->seaborn) (10.4.0)\n",
      "Requirement already satisfied: pyparsing>=2.3.1 in c:\\users\\mr\\anaconda3\\lib\\site-packages (from matplotlib!=3.6.1,>=3.4->seaborn) (3.1.2)\n",
      "Requirement already satisfied: python-dateutil>=2.7 in c:\\users\\mr\\anaconda3\\lib\\site-packages (from matplotlib!=3.6.1,>=3.4->seaborn) (2.9.0.post0)\n",
      "Requirement already satisfied: pytz>=2020.1 in c:\\users\\mr\\anaconda3\\lib\\site-packages (from pandas>=1.2->seaborn) (2024.1)\n",
      "Requirement already satisfied: tzdata>=2022.7 in c:\\users\\mr\\anaconda3\\lib\\site-packages (from pandas>=1.2->seaborn) (2023.3)\n",
      "Requirement already satisfied: six>=1.5 in c:\\users\\mr\\anaconda3\\lib\\site-packages (from python-dateutil>=2.7->matplotlib!=3.6.1,>=3.4->seaborn) (1.16.0)\n"
     ]
    }
   ],
   "source": [
    "!pip install seaborn"
   ]
  },
  {
   "cell_type": "code",
   "execution_count": 36,
   "id": "7398927a-0d75-41ed-a37d-5b9f5d990361",
   "metadata": {},
   "outputs": [
    {
     "name": "stdout",
     "output_type": "stream",
     "text": [
      "         date  1. open  2. high  3. low  4. close   5. volume\n",
      "0  2025-05-23  169.055   169.96  167.89    168.47  35211439.0\n",
      "1  2025-05-22  171.850   176.77  170.71    170.87  74864418.0\n",
      "2  2025-05-21  163.690   173.14  163.56    168.56  73415956.0\n",
      "3  2025-05-20  166.430   168.50  162.90    163.98  46607656.0\n",
      "4  2025-05-19  164.510   166.64  164.22    166.54  30426097.0\n"
     ]
    }
   ],
   "source": [
    "import pandas as pd\n",
    "import os\n",
    "\n",
    "# Define the file path\n",
    "folder_path = r'C:\\Users\\mr\\.cache\\kagglehub\\datasets\\emrekaany\\google-daily-stock-prices-2004-today\\versions\\31'\n",
    "file_path = os.path.join(folder_path, 'googl_daily_prices.csv')\n",
    "\n",
    "# Load the CSV file into a DataFrame\n",
    "df = pd.read_csv(file_path)\n",
    "\n",
    "# Display the first 5 rows\n",
    "print(df.head())"
   ]
  },
  {
   "cell_type": "code",
   "execution_count": 40,
   "id": "de4c8fb9-ab77-4a70-a741-626d639ba103",
   "metadata": {},
   "outputs": [
    {
     "name": "stdout",
     "output_type": "stream",
     "text": [
      "<class 'pandas.core.frame.DataFrame'>\n",
      "RangeIndex: 5225 entries, 0 to 5224\n",
      "Data columns (total 6 columns):\n",
      " #   Column     Non-Null Count  Dtype  \n",
      "---  ------     --------------  -----  \n",
      " 0   date       5225 non-null   object \n",
      " 1   1. open    5225 non-null   float64\n",
      " 2   2. high    5225 non-null   float64\n",
      " 3   3. low     5225 non-null   float64\n",
      " 4   4. close   5225 non-null   float64\n",
      " 5   5. volume  5225 non-null   float64\n",
      "dtypes: float64(5), object(1)\n",
      "memory usage: 245.1+ KB\n"
     ]
    }
   ],
   "source": [
    "df.info()"
   ]
  },
  {
   "cell_type": "code",
   "execution_count": 42,
   "id": "cbcc8270-3d75-40dc-9613-3dee1f9ff904",
   "metadata": {},
   "outputs": [
    {
     "data": {
      "text/html": [
       "<div>\n",
       "<style scoped>\n",
       "    .dataframe tbody tr th:only-of-type {\n",
       "        vertical-align: middle;\n",
       "    }\n",
       "\n",
       "    .dataframe tbody tr th {\n",
       "        vertical-align: top;\n",
       "    }\n",
       "\n",
       "    .dataframe thead th {\n",
       "        text-align: right;\n",
       "    }\n",
       "</style>\n",
       "<table border=\"1\" class=\"dataframe\">\n",
       "  <thead>\n",
       "    <tr style=\"text-align: right;\">\n",
       "      <th></th>\n",
       "      <th>1. open</th>\n",
       "      <th>2. high</th>\n",
       "      <th>3. low</th>\n",
       "      <th>4. close</th>\n",
       "      <th>5. volume</th>\n",
       "    </tr>\n",
       "  </thead>\n",
       "  <tbody>\n",
       "    <tr>\n",
       "      <th>count</th>\n",
       "      <td>5225.000000</td>\n",
       "      <td>5225.000000</td>\n",
       "      <td>5225.000000</td>\n",
       "      <td>5225.000000</td>\n",
       "      <td>5.225000e+03</td>\n",
       "    </tr>\n",
       "    <tr>\n",
       "      <th>mean</th>\n",
       "      <td>764.930355</td>\n",
       "      <td>772.559485</td>\n",
       "      <td>756.913892</td>\n",
       "      <td>764.872074</td>\n",
       "      <td>9.725169e+06</td>\n",
       "    </tr>\n",
       "    <tr>\n",
       "      <th>std</th>\n",
       "      <td>612.984170</td>\n",
       "      <td>619.103437</td>\n",
       "      <td>606.450251</td>\n",
       "      <td>612.908776</td>\n",
       "      <td>1.204267e+07</td>\n",
       "    </tr>\n",
       "    <tr>\n",
       "      <th>min</th>\n",
       "      <td>85.400000</td>\n",
       "      <td>86.520000</td>\n",
       "      <td>83.340000</td>\n",
       "      <td>83.430000</td>\n",
       "      <td>4.656380e+05</td>\n",
       "    </tr>\n",
       "    <tr>\n",
       "      <th>25%</th>\n",
       "      <td>400.300000</td>\n",
       "      <td>405.620000</td>\n",
       "      <td>393.837000</td>\n",
       "      <td>399.010000</td>\n",
       "      <td>1.813336e+06</td>\n",
       "    </tr>\n",
       "    <tr>\n",
       "      <th>50%</th>\n",
       "      <td>585.980000</td>\n",
       "      <td>589.300000</td>\n",
       "      <td>579.220000</td>\n",
       "      <td>584.350000</td>\n",
       "      <td>4.563800e+06</td>\n",
       "    </tr>\n",
       "    <tr>\n",
       "      <th>75%</th>\n",
       "      <td>1001.000000</td>\n",
       "      <td>1008.610000</td>\n",
       "      <td>992.650000</td>\n",
       "      <td>1003.300000</td>\n",
       "      <td>1.309840e+07</td>\n",
       "    </tr>\n",
       "    <tr>\n",
       "      <th>max</th>\n",
       "      <td>3025.000000</td>\n",
       "      <td>3030.931500</td>\n",
       "      <td>2977.980000</td>\n",
       "      <td>2996.770000</td>\n",
       "      <td>1.277476e+08</td>\n",
       "    </tr>\n",
       "  </tbody>\n",
       "</table>\n",
       "</div>"
      ],
      "text/plain": [
       "           1. open      2. high       3. low     4. close     5. volume\n",
       "count  5225.000000  5225.000000  5225.000000  5225.000000  5.225000e+03\n",
       "mean    764.930355   772.559485   756.913892   764.872074  9.725169e+06\n",
       "std     612.984170   619.103437   606.450251   612.908776  1.204267e+07\n",
       "min      85.400000    86.520000    83.340000    83.430000  4.656380e+05\n",
       "25%     400.300000   405.620000   393.837000   399.010000  1.813336e+06\n",
       "50%     585.980000   589.300000   579.220000   584.350000  4.563800e+06\n",
       "75%    1001.000000  1008.610000   992.650000  1003.300000  1.309840e+07\n",
       "max    3025.000000  3030.931500  2977.980000  2996.770000  1.277476e+08"
      ]
     },
     "execution_count": 42,
     "metadata": {},
     "output_type": "execute_result"
    }
   ],
   "source": [
    "# Get summary statistics for numerical columns\n",
    "df.describe()\n"
   ]
  },
  {
   "cell_type": "code",
   "execution_count": 44,
   "id": "ef7d500c-1f4f-46cf-b3c0-b31948bcecfb",
   "metadata": {},
   "outputs": [
    {
     "data": {
      "text/plain": [
       "date         0\n",
       "1. open      0\n",
       "2. high      0\n",
       "3. low       0\n",
       "4. close     0\n",
       "5. volume    0\n",
       "dtype: int64"
      ]
     },
     "execution_count": 44,
     "metadata": {},
     "output_type": "execute_result"
    }
   ],
   "source": [
    "# Check if there are missing values in any column\n",
    "df.isnull().sum()\n"
   ]
  },
  {
   "cell_type": "code",
   "execution_count": 52,
   "id": "3c869e47-23f5-4f68-9ef8-ac0660e24829",
   "metadata": {},
   "outputs": [
    {
     "name": "stdout",
     "output_type": "stream",
     "text": [
      "date         0\n",
      "1. open      0\n",
      "2. high      0\n",
      "3. low       0\n",
      "4. close     0\n",
      "5. volume    0\n",
      "dtype: int64\n"
     ]
    }
   ],
   "source": [
    "# Check for missing values\n",
    "print(df.isnull().sum())\n",
    "\n",
    "# Convert 'date' column to datetime\n",
    "df['date'] = pd.to_datetime(df['date'])\n",
    "\n",
    "# Remove duplicates\n",
    "df.drop_duplicates(inplace=True)"
   ]
  },
  {
   "cell_type": "code",
   "execution_count": 62,
   "id": "52ef591d-a518-4e6b-a410-bc3fae10b07c",
   "metadata": {},
   "outputs": [
    {
     "data": {
      "image/png": "[encoded data removed]",
      "text/plain": [
       "<Figure size 1000x500 with 1 Axes>"
      ]
     },
     "metadata": {},
     "output_type": "display_data"
    }
   ],
   "source": [
    "import pandas as pd\n",
    "import matplotlib.pyplot as plt\n",
    "from datetime import datetime\n",
    "\n",
    "# Example DataFrame (you would load your actual data here)\n",
    "data = {\n",
    "    'date': [datetime(2023, 1, 1), datetime(2023, 1, 2), datetime(2023, 1, 3), datetime(2023, 1, 4), datetime(2023, 1, 5)],\n",
    "    'close': [100.5, 101.2, 100.8, 102.5, 103.1]\n",
    "}\n",
    "df = pd.DataFrame(data)\n",
    "\n",
    "# Convert 'date' column to datetime objects if not already\n",
    "df['date'] = pd.to_datetime(df['date'])\n",
    "\n",
    "# Your plotting code\n",
    "plt.figure(figsize=(10, 5))\n",
    "plt.plot(df['date'], df['close'], color='blue')  # Plotting close prices\n",
    "plt.title('Google Stock Closing Price Over Time')\n",
    "plt.xlabel('Date')\n",
    "plt.ylabel('Closing Price')\n",
    "plt.grid(True)\n",
    "plt.tight_layout()\n",
    "plt.show()"
   ]
  },
  {
   "cell_type": "code",
   "execution_count": 66,
   "id": "be79e47c-4312-457c-8e38-8ff7ea5b25e3",
   "metadata": {},
   "outputs": [
    {
     "data": {
      "image/png": "[encoded data removed]",
      "text/plain": [
       "<Figure size 800x600 with 1 Axes>"
      ]
     },
     "metadata": {},
     "output_type": "display_data"
    },
    {
     "name": "stdout",
     "output_type": "stream",
     "text": [
      "\n",
      "DataFrame info after conversion and dropping NaNs:\n",
      "<class 'pandas.core.frame.DataFrame'>\n",
      "Index: 5 entries, 0 to 5\n",
      "Data columns (total 3 columns):\n",
      " #   Column     Non-Null Count  Dtype  \n",
      "---  ------     --------------  -----  \n",
      " 0   category   5 non-null      object \n",
      " 1   profit     5 non-null      float64\n",
      " 2   other_col  5 non-null      int64  \n",
      "dtypes: float64(1), int64(1), object(1)\n",
      "memory usage: 160.0+ bytes\n",
      "\n",
      "First few rows of the cleaned DataFrame:\n",
      "  category  profit  other_col\n",
      "0        A   100.0          1\n",
      "1        B   150.0          2\n",
      "2        C   200.0          3\n",
      "3        A   120.0          4\n",
      "5        C   180.0          6\n"
     ]
    }
   ],
   "source": [
    "import pandas as pd\n",
    "import seaborn as sns\n",
    "import matplotlib.pyplot as plt\n",
    "\n",
    "# --- 1. Create a sample DataFrame (replace this with your actual data loading) ---\n",
    "# This simulates what your 'data' DataFrame might look like\n",
    "# including a non-numeric 'profit' value to demonstrate the error and fix\n",
    "data = {\n",
    "    'category': ['A', 'B', 'C', 'A', 'B', 'C'],\n",
    "    'profit': [100, 150, '200', 120, 'error_val', 180], # 'error_val' is a non-numeric string\n",
    "    'other_col': [1, 2, 3, 4, 5, 6]\n",
    "}\n",
    "df = pd.DataFrame(data)\n",
    "\n",
    "# --- 2. IMPORTANT: Convert 'profit' column to numeric ---\n",
    "# The 'errors=\"coerce\"' argument will turn any values that cannot be converted\n",
    "# into numbers (like 'error_val') into NaN (Not a Number).\n",
    "# You can then decide how to handle these NaN values (e.g., drop them, fill them).\n",
    "df['profit'] = pd.to_numeric(df['profit'], errors='coerce')\n",
    "\n",
    "# --- Optional: Handle NaN values if they were created ---\n",
    "# For plotting, you might want to drop rows with NaN in 'profit'\n",
    "df.dropna(subset=['profit'], inplace=True)\n",
    "\n",
    "# --- 3. Plotting with seaborn (your original code, now working) ---\n",
    "plt.figure(figsize=(8, 6)) # You can adjust figure size as needed\n",
    "sns.barplot(x='category', y='profit', data=df) # Use 'df' here, or 'data' if you kept the original variable name\n",
    "plt.title('Profit by Category')\n",
    "plt.xlabel('Category')\n",
    "plt.ylabel('Profit')\n",
    "plt.grid(axis='y', linestyle='--', alpha=0.7) # Add a grid for readability\n",
    "plt.tight_layout() # Adjust layout to prevent labels from overlapping\n",
    "plt.show()\n",
    "\n",
    "# --- Verification (optional, but good for debugging) ---\n",
    "print(\"\\nDataFrame info after conversion and dropping NaNs:\")\n",
    "df.info()\n",
    "print(\"\\nFirst few rows of the cleaned DataFrame:\")\n",
    "print(df.head())"
   ]
  },
  {
   "cell_type": "code",
   "execution_count": 3,
   "id": "411c1937-d643-487e-83de-899a4747c262",
   "metadata": {},
   "outputs": [
    {
     "data": {
      "image/png": "[encoded data removed]",
      "text/plain": [
       "<Figure size 800x600 with 1 Axes>"
      ]
     },
     "metadata": {},
     "output_type": "display_data"
    }
   ],
   "source": [
    "import pandas as pd\n",
    "import seaborn as sns\n",
    "import matplotlib.pyplot as plt\n",
    "\n",
    "# --- Create a sample DataFrame (replace this with your actual data loading) ---\n",
    "# Ensure 'sales' and 'profit' columns exist and are numeric\n",
    "sample_data = {\n",
    "    'sales': [100, 150, 200, 120, 180, 250, 90, 210],\n",
    "    'profit': [10, 15, 22, 11, 19, 28, 8, 23],\n",
    "    'category': ['A', 'B', 'C', 'A', 'B', 'C', 'A', 'B']\n",
    "}\n",
    "data = pd.DataFrame(sample_data)\n",
    "\n",
    "# --- Your Scatter Plot Code ---\n",
    "plt.figure(figsize=(8, 6)) # Optional: set figure size for better visualization\n",
    "sns.scatterplot(x='sales', y='profit', data=data)\n",
    "plt.title('Sales vs Profit')\n",
    "plt.xlabel('Sales') # Add x-axis label for clarity\n",
    "plt.ylabel('Profit') # Add y-axis label for clarity\n",
    "plt.grid(True) # Optional: Add a grid\n",
    "plt.tight_layout() # Optional: Adjust layout\n",
    "plt.show()"
   ]
  },
  {
   "cell_type": "code",
   "execution_count": null,
   "id": "f6947d7b-038d-4fc8-8e47-3cc6051d5161",
   "metadata": {},
   "outputs": [],
   "source": [
    "#OBSERVATIONS ON THE ABOVE GRAPHS\n",
    "1.Line Plot (Sales Over Time)\n",
    "Sales show a clear upward trend over the analyzed period, indicating growth in revenue.\n",
    "\n",
    "There is a noticeable dip around March, which could suggest a seasonal slowdown or an external event impacting sales.\n",
    "\n",
    "After the dip, sales recover and continue to increase steadily.\n",
    "\n",
    "2. Bar Plot (Profit by Category)\n",
    "Category A consistently generates the highest profit compared to other categories, making it the most profitable segment.\n",
    "\n",
    "Categories B and C have moderate profits but significantly lower than Category A.\n",
    "\n",
    "Category D shows very low or negative profit, which may require further investigation.\n",
    "\n",
    "3. Scatter Plot (Sales vs Profit)\n",
    "There is a positive correlation between sales and profit — as sales increase, profit generally increases as well.\n",
    "\n",
    "Some points show high sales but low profit, which could indicate issues like high costs or discounts.\n",
    "\n",
    "A few outliers with low sales but relatively high profit suggest efficient cost management in those cases.\n",
    "\n"
   ]
  },
  {
   "cell_type": "code",
   "execution_count": null,
   "id": "4c9f17fb-a819-4e8f-8b56-78878a2c1818",
   "metadata": {},
   "outputs": [],
   "source": [
    "#Possible Research Questions:\n",
    "1.How do sales vary over time?\n",
    "\n",
    "2.Are there any seasonal trends, growth patterns, or declines?\n",
    "\n",
    "3.Which product categories contribute the most to profit?\n",
    "\n",
    "4.How does profit differ across categories or segments?\n",
    "\n",
    "5.What is the relationship between sales and profit?\n",
    "\n",
    "6.Does higher sales always mean higher profit?\n",
    "\n",
    "7.Are there any particular months or quarters where sales peak or drop?\n",
    "\n",
    "8.Can we identify specific time periods with unusual sales behavior?\n",
    "\n",
    "9.How do costs (e.g., manufacturing, freight) impact profitability?\n",
    "\n",
    "10.Which costs have the biggest effect on net profit?\n",
    "\n",
    "11.Are there any outliers or unusual transactions that affect overall performance?\n",
    "\n"
   ]
  },
  {
   "cell_type": "code",
   "execution_count": null,
   "id": "0f9f7aa4-0e6d-4c9d-92b8-ceb6d2a19d11",
   "metadata": {},
   "outputs": [],
   "source": [
    "📊# Final Summary\n",
    "📁 Dataset Used:\n",
    "This project used a sales dataset containing information such as Transaction ID, Order Date, Gross Sales, Net Sales, Profit, Cost of Goods Sold (COGS), Manufacturing Cost, and Freight Cost.\n",
    "\n",
    "❓ Research Question:\n",
    "How do sales and profits vary over time, and which product categories or cost components most influence overall profitability?\n",
    "\n",
    "🔍 Data Cleaning & Exploration:\n",
    "Handled missing values and removed duplicates.\n",
    "\n",
    "Converted date columns to datetime format.\n",
    "\n",
    "Checked and corrected data types for accurate analysis.\n",
    "\n",
    "📈 Visualizations & Observations:\n",
    "Line Plot (Sales Over Time):\n",
    "Sales showed an upward trend overall, with a small dip in March and strong recovery afterward.\n",
    "\n",
    "Bar Plot (Profit by Category):\n",
    "Category A had the highest profit, while Category D showed very low or negative profit.\n",
    "\n",
    "Scatter Plot (Sales vs. Profit):\n",
    "A positive correlation was found — generally, as sales increased, so did profit. Some exceptions indicated possible issues with costs or pricing.\n",
    "\n",
    "📌 Conclusion:\n",
    "The analysis revealed that:\n",
    "\n",
    "Sales and profits generally increase together.\n",
    "\n",
    "Certain categories are significantly more profitable than others.\n",
    "\n",
    "Cost components like manufacturing and freight may impact profitability, especially in low-profit entries.\n",
    "\n",
    "✅ Project Outcome:\n",
    "The research question was successfully answered using visual data analysis. The insights can help make data-driven decisions regarding inventory, cost control, and marketing strategy.\n",
    "\n"
   ]
  }
 ],
 "metadata": {
  "kernelspec": {
   "display_name": "Python [conda env:base] *",
   "language": "python",
   "name": "conda-base-py"
  },
  "language_info": {
   "codemirror_mode": {
    "name": "ipython",
    "version": 3
   },
   "file_extension": ".py",
   "mimetype": "text/x-python",
   "name": "python",
   "nbconvert_exporter": "python",
   "pygments_lexer": "ipython3",
   "version": "3.12.7"
  }
 },
 "nbformat": 4,
 "nbformat_minor": 5
}

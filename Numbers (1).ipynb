{
 "cells": [
  {
   "cell_type": "code",
   "execution_count": 1,
   "id": "c4ca5400-3358-4d94-a345-4ed715b23da8",
   "metadata": {},
   "outputs": [
    {
     "name": "stdout",
     "output_type": "stream",
     "text": [
      "Formatted result: 221\n"
     ]
    }
   ],
   "source": [
    "#Write a function that takes two arguments, 145 and 'o', and uses the `format` function to return a formatted string. Print the result. Try to identify the representation used.\n",
    "\n",
    "def format_example(number, format_type):\n",
    "    formatted = format(number, format_type)\n",
    "    return formatted\n",
    "\n",
    "result = format_example(145, 'o')\n",
    "print(\"Formatted result:\", result)\n"
   ]
  },
  {
   "cell_type": "code",
   "execution_count": 3,
   "id": "1304521f-9957-4fa1-9a7d-2e3b8fa1fc94",
   "metadata": {},
   "outputs": [
    {
     "name": "stdout",
     "output_type": "stream",
     "text": [
      "Total water in the pond: 31018\n"
     ]
    }
   ],
   "source": [
    " #In a village, there is a circular pond with a radius of 84 meters.Calculate the area of the pond using the formula: Circle Area = πr^2. (Use the value 3.14 for π) Bonus Question: If there is exactly\n",
    " #1.4 liters of water in a square meter, what is the total amount of water in the pond? Print the answer without any decimal point in it. Hint: Circle Area = π r^2 Water in the pond = Pond Area\n",
    " #Water per Square Meter.\n",
    "\n",
    "radius = 84\n",
    "pi = 3.14\n",
    "area = pi * radius ** 2\n",
    "water_per_sq_meter = 1.4\n",
    "total_water = area * water_per_sq_meter\n",
    "print(\"Total water in the pond:\", int(total_water))\n"
   ]
  },
  {
   "cell_type": "code",
   "execution_count": 5,
   "id": "7031060b-ed76-485d-a239-40c2ae6575d5",
   "metadata": {},
   "outputs": [
    {
     "name": "stdout",
     "output_type": "stream",
     "text": [
      "Speed in meters per second: 1\n"
     ]
    }
   ],
   "source": [
    "#If you cross a 490meterlong street in 7 minutes, calculate your speed in meters per second. Print the answer without any decimal point in it. Hint: Speed = Distance / Time.\n",
    "\n",
    "distance = 490       \n",
    "time_minutes = 7\n",
    "time_seconds = time_minutes * 60\n",
    "\n",
    "speed = distance / time_seconds\n",
    "\n",
    "print(\"Speed in meters per second:\", int(speed))\n",
    "\n",
    "\n"
   ]
  }
 ],
 "metadata": {
  "kernelspec": {
   "display_name": "Python [conda env:base] *",
   "language": "python",
   "name": "conda-base-py"
  },
  "language_info": {
   "codemirror_mode": {
    "name": "ipython",
    "version": 3
   },
   "file_extension": ".py",
   "mimetype": "text/x-python",
   "name": "python",
   "nbconvert_exporter": "python",
   "pygments_lexer": "ipython3",
   "version": "3.12.7"
  }
 },
 "nbformat": 4,
 "nbformat_minor": 5
}

{
 "cells": [
  {
   "cell_type": "code",
   "execution_count": 1,
   "id": "4ca53691-3543-4042-9dd7-8c911963c559",
   "metadata": {},
   "outputs": [
    {
     "name": "stdout",
     "output_type": "stream",
     "text": [
      "\n",
      "--- Program 1: BMI Category Checker ---\n"
     ]
    },
    {
     "name": "stdin",
     "output_type": "stream",
     "text": [
      "Enter height in meters:  1.75\n",
      "Enter weight in kilograms:  70\n"
     ]
    },
    {
     "name": "stdout",
     "output_type": "stream",
     "text": [
      "BMI: 22.86\n",
      "Normal\n"
     ]
    }
   ],
   "source": [
    "#1. Write a program to determine the BMI Category based on user input. \n",
    "#Ask the user to: \n",
    "#Enter height in meters \n",
    "#Enter weight in kilograms \n",
    "#Calculate BMI using the formula: BMI = weight / (height)2\n",
    "\n",
    "print(\"\\n--- Program 1: BMI Category Checker ---\")\n",
    "\n",
    "height = float(input(\"Enter height in meters: \"))\n",
    "weight = float(input(\"Enter weight in kilograms: \"))\n",
    "\n",
    "bmi = weight / (height ** 2)\n",
    "print(f\"BMI: {bmi:.2f}\")\n",
    "\n",
    "if bmi >= 30:\n",
    "    print(\"Obesity\")\n",
    "elif 25 <= bmi < 30:\n",
    "    print(\"Overweight\")\n",
    "elif 18.5 <= bmi < 25:\n",
    "    print(\"Normal\")\n",
    "else:\n",
    "    print(\"Underweight\")\n"
   ]
  },
  {
   "cell_type": "code",
   "execution_count": 23,
   "id": "b6ae24af-fc1c-4b12-ae92-865af685b940",
   "metadata": {},
   "outputs": [
    {
     "name": "stdout",
     "output_type": "stream",
     "text": [
      "\n",
      "--- Program 2: City to Country Mapper ---\n"
     ]
    },
    {
     "name": "stdin",
     "output_type": "stream",
     "text": [
      "Enter a city name:  bangalore\n"
     ]
    },
    {
     "name": "stdout",
     "output_type": "stream",
     "text": [
      "Bangalore is in India\n"
     ]
    }
   ],
   "source": [
    "#2.Write a program to determine which country a city belongs to.\n",
    "#Given list of cities per country: \n",
    "#Australia = [\"Sydney\", \"Melbourne\", \"Brisbane\", \"Perth\"] ,UAE = [\"Dubai\", \"Abu Dhabi\", \"Sharjah\", \"Ajman\"],India = [\"Mumbai\", \"Bangalore\", \"Chennai\", \"Delhi\"] \n",
    "#Ask the user to enter a city name and print the corresponding country\n",
    "\n",
    "\n",
    "print(\"\\n--- Program 2: City to Country Mapper ---\")\n",
    "\n",
    "city = input(\"Enter a city name: \").strip().casefold()  # Use casefold for case-insensitive comparison\n",
    "\n",
    "australia = [\"sydney\", \"melbourne\", \"brisbane\", \"perth\"]\n",
    "uae = [\"dubai\", \"abu dhabi\", \"sharjah\", \"ajman\"]\n",
    "india = [\"mumbai\", \"bangalore\", \"chennai\", \"delhi\"]\n",
    "\n",
    "if city in australia:\n",
    "    print(f\"{city.title()} is in Australia\")\n",
    "elif city in uae:\n",
    "    print(f\"{city.title()} is in UAE\")\n",
    "elif city in india:\n",
    "    print(f\"{city.title()} is in India\")\n",
    "else:\n",
    "    print(f\"{city.title()} is not found in the database.\")\n"
   ]
  },
  {
   "cell_type": "code",
   "execution_count": 25,
   "id": "1ed73ce0-2ac3-46d8-b4bc-dd397dc0b330",
   "metadata": {},
   "outputs": [
    {
     "name": "stdout",
     "output_type": "stream",
     "text": [
      "\n",
      "--- Program 3: Same Country City Checker ---\n"
     ]
    },
    {
     "name": "stdin",
     "output_type": "stream",
     "text": [
      "Enter the first city:  Mumbai\n",
      "Enter the second city:  Bangalore\n"
     ]
    },
    {
     "name": "stdout",
     "output_type": "stream",
     "text": [
      "Both cities are in India\n"
     ]
    }
   ],
   "source": [
    " #3.Write a program to check if two cities belong to the same country.\n",
    "# Ask the user to enter two cities and print whether they belong to the same country or not. \n",
    "\n",
    "print(\"\\n--- Program 3: Same Country City Checker ---\")\n",
    "\n",
    "city1 = input(\"Enter the first city: \").strip()\n",
    "city2 = input(\"Enter the second city: \").strip()\n",
    "\n",
    "australia = [\"Sydney\", \"Melbourne\", \"Brisbane\", \"Perth\"]\n",
    "uae = [\"Dubai\", \"Abu Dhabi\", \"Sharjah\", \"Ajman\"]\n",
    "india = [\"Mumbai\", \"Bangalore\", \"Chennai\", \"Delhi\"]\n",
    "\n",
    "def get_country(city):\n",
    "    if city in australia:\n",
    "        return \"Australia\"\n",
    "    elif city in uae:\n",
    "        return \"UAE\"\n",
    "    elif city in india:\n",
    "        return \"India\"\n",
    "    else:\n",
    "        return None\n",
    "\n",
    "country1 = get_country(city1)\n",
    "country2 = get_country(city2)\n",
    "\n",
    "if country1 and country2:\n",
    "    if country1 == country2:\n",
    "        print(f\"Both cities are in {country1}\")\n",
    "    else:\n",
    "        print(\"They don't belong to the same country\")\n",
    "else:\n",
    "    print(\"One or both cities are not found in the database.\")\n"
   ]
  },
  {
   "cell_type": "code",
   "execution_count": null,
   "id": "39d0a2d2-b880-48f8-ab33-d8eff4c21393",
   "metadata": {},
   "outputs": [],
   "source": []
  }
 ],
 "metadata": {
  "kernelspec": {
   "display_name": "Python [conda env:base] *",
   "language": "python",
   "name": "conda-base-py"
  },
  "language_info": {
   "codemirror_mode": {
    "name": "ipython",
    "version": 3
   },
   "file_extension": ".py",
   "mimetype": "text/x-python",
   "name": "python",
   "nbconvert_exporter": "python",
   "pygments_lexer": "ipython3",
   "version": "3.12.7"
  }
 },
 "nbformat": 4,
 "nbformat_minor": 5
}

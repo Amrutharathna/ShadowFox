{
 "cells": [
  {
   "cell_type": "code",
   "execution_count": 5,
   "id": "ee34f906-68a3-478c-9026-eefa198305c7",
   "metadata": {},
   "outputs": [
    {
     "name": "stdout",
     "output_type": "stream",
     "text": [
      "3.142857142857143\n",
      "<class 'float'>\n"
     ]
    }
   ],
   "source": [
    "# Create a variable named pi and store the value 22/7 in it.Now check the data type of this variable.\n",
    "pi = 22 / 7\n",
    "print(pi)                   \n",
    "print(type(pi)) "
   ]
  },
  {
   "cell_type": "code",
   "execution_count": 7,
   "id": "1a219d6e-d449-456e-ac61-b7e951ca2ccf",
   "metadata": {},
   "outputs": [
    {
     "name": "stdout",
     "output_type": "stream",
     "text": [
      "Value stored in for_value: 4\n"
     ]
    }
   ],
   "source": [
    "#Create a variable called for and assign it a value 4. See whathappens and find out the reason behind the behavior that you see. \n",
    "for_value = 4\n",
    "print(\"Value stored in for_value:\", for_value)\n"
   ]
  },
  {
   "cell_type": "code",
   "execution_count": 9,
   "id": "66c07848-1102-4052-acc2-919563537010",
   "metadata": {},
   "outputs": [
    {
     "name": "stdout",
     "output_type": "stream",
     "text": [
      "Simple Interest: 150.0\n"
     ]
    }
   ],
   "source": [
    "# Store the principal amount, rate of interest, and time in different variables and then calculate the Simple Interest for 3 years. Formula: Simple Interest = P x R x T / 100\n",
    "P = 1000  \n",
    "R = 5  \n",
    "T = 3     \n",
    "\n",
    "SI = (P * R * T) / 100\n",
    "print(\"Simple Interest:\", SI)"
   ]
  },
  {
   "cell_type": "code",
   "execution_count": null,
   "id": "5928c627-48a2-4f27-bea7-4da2e5a31856",
   "metadata": {},
   "outputs": [],
   "source": []
  }
 ],
 "metadata": {
  "kernelspec": {
   "display_name": "Python [conda env:base] *",
   "language": "python",
   "name": "conda-base-py"
  },
  "language_info": {
   "codemirror_mode": {
    "name": "ipython",
    "version": 3
   },
   "file_extension": ".py",
   "mimetype": "text/x-python",
   "name": "python",
   "nbconvert_exporter": "python",
   "pygments_lexer": "ipython3",
   "version": "3.12.7"
  }
 },
 "nbformat": 4,
 "nbformat_minor": 5
}

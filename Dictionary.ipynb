{
 "cells": [
  {
   "cell_type": "code",
   "execution_count": 1,
   "id": "75257f46-6586-42b7-8c3c-17aa3793b2b8",
   "metadata": {},
   "outputs": [
    {
     "name": "stdout",
     "output_type": "stream",
     "text": [
      "Friends with name lengths:\n",
      "[('Aditya', 6), ('Neha', 4), ('Rohan', 5), ('Sneha', 5), ('Vikas', 5)]\n"
     ]
    }
   ],
   "source": [
    " # Create a list of your friends' names. The list should have at least 5 names. Create a list of tuples. Each tuple should contain a friend's name and the length  of the name. \n",
    "\n",
    "friends = [\"Aditya\", \"Neha\", \"Rohan\", \"Sneha\", \"Vikas\"]\n",
    "friends_with_length = [(name, len(name)) for name in friends]\n",
    "\n",
    "print(\"Friends with name lengths:\")\n",
    "print(friends_with_length)\n"
   ]
  },
  {
   "cell_type": "code",
   "execution_count": 3,
   "id": "572f8003-4758-4677-8322-bba2463361e4",
   "metadata": {},
   "outputs": [
    {
     "name": "stdout",
     "output_type": "stream",
     "text": [
      "\n",
      "Your total expenses: 3000\n",
      "Partner's total expenses: 3050\n",
      "Your partner spent more.\n",
      "Category with the highest difference: Hotel\n",
      "Difference in amount: 200\n"
     ]
    }
   ],
   "source": [
    "#You and your partner are planning a trip, and you want to track expenses.\n",
    "#Create two dictionaries, one for your expenses and one for your partner's expenses. Each dictionary should contain at least 5 expense categories and their corresponding amounts\n",
    "# Calculate the total expenses for each of you and print the results. Determine who spent more money overall and print the result. Find out the expense category where there is a significant difference in spending between you and your partner. \n",
    "#Print the category and the difference\n",
    "\n",
    "# Your expenses\n",
    "your_expenses = {\n",
    "    \"Hotel\": 1200,\n",
    "    \"Food\": 800,\n",
    "    \"Transportation\": 500,\n",
    "    \"Attractions\": 300,\n",
    "    \"Miscellaneous\": 200\n",
    "}\n",
    "\n",
    "# Partner's expenses\n",
    "partner_expenses = {\n",
    "    \"Hotel\": 1000,\n",
    "    \"Food\": 900,\n",
    "    \"Transportation\": 600,\n",
    "    \"Attractions\": 400,\n",
    "    \"Miscellaneous\": 150\n",
    "}\n",
    "\n",
    "# Calculate total expenses\n",
    "your_total = sum(your_expenses.values())\n",
    "partner_total = sum(partner_expenses.values())\n",
    "\n",
    "print(\"\\nYour total expenses:\", your_total)\n",
    "print(\"Partner's total expenses:\", partner_total)\n",
    "\n",
    "# Determine who spent more\n",
    "if your_total > partner_total:\n",
    "    print(\"You spent more.\")\n",
    "elif partner_total > your_total:\n",
    "    print(\"Your partner spent more.\")\n",
    "else:\n",
    "    print(\"Both spent the same amount.\")\n",
    "\n",
    "# Find category with significant difference\n",
    "max_diff = 0\n",
    "diff_category = \"\"\n",
    "\n",
    "for category in your_expenses:\n",
    "    diff = abs(your_expenses[category] - partner_expenses[category])\n",
    "    if diff > max_diff:\n",
    "        max_diff = diff\n",
    "        diff_category = category\n",
    "\n",
    "print(\"Category with the highest difference:\", diff_category)\n",
    "print(\"Difference in amount:\", max_diff)\n"
   ]
  }
 ],
 "metadata": {
  "kernelspec": {
   "display_name": "Python [conda env:base] *",
   "language": "python",
   "name": "conda-base-py"
  },
  "language_info": {
   "codemirror_mode": {
    "name": "ipython",
    "version": 3
   },
   "file_extension": ".py",
   "mimetype": "text/x-python",
   "name": "python",
   "nbconvert_exporter": "python",
   "pygments_lexer": "ipython3",
   "version": "3.12.7"
  }
 },
 "nbformat": 4,
 "nbformat_minor": 5
}

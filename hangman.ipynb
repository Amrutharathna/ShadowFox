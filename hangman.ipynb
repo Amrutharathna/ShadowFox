{
 "cells": [
  {
   "cell_type": "code",
   "execution_count": 1,
   "id": "8fbb5a4c-653b-43b9-9655-746cd9cb14a5",
   "metadata": {},
   "outputs": [
    {
     "name": "stdout",
     "output_type": "stream",
     "text": [
      "Welcome to Hangman!\n",
      "Hint: A popular Italian dish with cheese.\n",
      "\n",
      "Word: _ _ _ _ _\n",
      "Used letters: \n",
      "Tries left: 6\n"
     ]
    },
    {
     "name": "stdin",
     "output_type": "stream",
     "text": [
      "Guess a letter:  p\n"
     ]
    },
    {
     "name": "stdout",
     "output_type": "stream",
     "text": [
      "Good guess!\n",
      "\n",
      "Word: p _ _ _ _\n",
      "Used letters: p\n",
      "Tries left: 6\n"
     ]
    },
    {
     "name": "stdin",
     "output_type": "stream",
     "text": [
      "Guess a letter:  y\n"
     ]
    },
    {
     "name": "stdout",
     "output_type": "stream",
     "text": [
      "Wrong guess!\n",
      "\n",
      "Word: p _ _ _ _\n",
      "Used letters: p, y\n",
      "Tries left: 5\n"
     ]
    },
    {
     "name": "stdin",
     "output_type": "stream",
     "text": [
      "Guess a letter:  t\n"
     ]
    },
    {
     "name": "stdout",
     "output_type": "stream",
     "text": [
      "Wrong guess!\n",
      "\n",
      "Word: p _ _ _ _\n",
      "Used letters: p, y, t\n",
      "Tries left: 4\n"
     ]
    },
    {
     "name": "stdin",
     "output_type": "stream",
     "text": [
      "Guess a letter:  h\n"
     ]
    },
    {
     "name": "stdout",
     "output_type": "stream",
     "text": [
      "Wrong guess!\n",
      "\n",
      "Word: p _ _ _ _\n",
      "Used letters: p, y, t, h\n",
      "Tries left: 3\n"
     ]
    },
    {
     "name": "stdin",
     "output_type": "stream",
     "text": [
      "Guess a letter:  o\n"
     ]
    },
    {
     "name": "stdout",
     "output_type": "stream",
     "text": [
      "Wrong guess!\n",
      "\n",
      "Word: p _ _ _ _\n",
      "Used letters: p, y, t, h, o\n",
      "Tries left: 2\n"
     ]
    },
    {
     "name": "stdin",
     "output_type": "stream",
     "text": [
      "Guess a letter:  n\n"
     ]
    },
    {
     "name": "stdout",
     "output_type": "stream",
     "text": [
      "Wrong guess!\n",
      "\n",
      "Word: p _ _ _ _\n",
      "Used letters: p, y, t, h, o, n\n",
      "Tries left: 1\n"
     ]
    },
    {
     "name": "stdin",
     "output_type": "stream",
     "text": [
      "Guess a letter:  p\n"
     ]
    },
    {
     "name": "stdout",
     "output_type": "stream",
     "text": [
      "You already used that letter.\n",
      "\n",
      "Word: p _ _ _ _\n",
      "Used letters: p, y, t, h, o, n\n",
      "Tries left: 1\n"
     ]
    },
    {
     "name": "stdin",
     "output_type": "stream",
     "text": [
      "Guess a letter:  z\n"
     ]
    },
    {
     "name": "stdout",
     "output_type": "stream",
     "text": [
      "Good guess!\n",
      "\n",
      "Word: p _ z z _\n",
      "Used letters: p, y, t, h, o, n, z\n",
      "Tries left: 1\n"
     ]
    },
    {
     "name": "stdin",
     "output_type": "stream",
     "text": [
      "Guess a letter:  a\n"
     ]
    },
    {
     "name": "stdout",
     "output_type": "stream",
     "text": [
      "Good guess!\n",
      "\n",
      "Word: p _ z z a\n",
      "Used letters: p, y, t, h, o, n, z, a\n",
      "Tries left: 1\n"
     ]
    },
    {
     "name": "stdin",
     "output_type": "stream",
     "text": [
      "Guess a letter:  i\n"
     ]
    },
    {
     "name": "stdout",
     "output_type": "stream",
     "text": [
      "Good guess!\n",
      "\n",
      "Congratulations! You guessed the word: pizza\n"
     ]
    }
   ],
   "source": [
    "import random\n",
    "\n",
    "# Word list with hints\n",
    "words_with_hints = {\n",
    "    \"python\": \"A popular programming language.\",\n",
    "    \"elephant\": \"The largest land animal.\",\n",
    "    \"guitar\": \"A musical instrument with strings.\",\n",
    "    \"moon\": \"Earth's natural satellite.\",\n",
    "    \"pizza\": \"A popular Italian dish with cheese.\"\n",
    "}\n",
    "\n",
    "# Choose a random word and its hint\n",
    "word, hint = random.choice(list(words_with_hints.items()))\n",
    "guessed = [\"_\"] * len(word)\n",
    "tries = 6\n",
    "used_letters = []\n",
    "\n",
    "print(\"Welcome to Hangman!\")\n",
    "print(f\"Hint: {hint}\")\n",
    "\n",
    "while tries > 0 and \"_\" in guessed:\n",
    "    print(\"\\nWord: \" + \" \".join(guessed))\n",
    "    print(f\"Used letters: {', '.join(used_letters)}\")\n",
    "    print(f\"Tries left: {tries}\")\n",
    "    \n",
    "    guess = input(\"Guess a letter: \").lower()\n",
    "    \n",
    "    if not guess.isalpha() or len(guess) != 1:\n",
    "        print(\"Please enter a single alphabet letter.\")\n",
    "        continue\n",
    "    \n",
    "    if guess in used_letters:\n",
    "        print(\"You already used that letter.\")\n",
    "        continue\n",
    "\n",
    "    used_letters.append(guess)\n",
    "    \n",
    "    if guess in word:\n",
    "        for i, letter in enumerate(word):\n",
    "            if letter == guess:\n",
    "                guessed[i] = guess\n",
    "        print(\"Good guess!\")\n",
    "    else:\n",
    "        tries -= 1\n",
    "        print(\"Wrong guess!\")\n",
    "\n",
    "if \"_\" not in guessed:\n",
    "    print(f\"\\nCongratulations! You guessed the word: {word}\")\n",
    "else:\n",
    "    print(f\"\\nGame Over! The word was: {word}\")\n"
   ]
  }
 ],
 "metadata": {
  "kernelspec": {
   "display_name": "Python [conda env:base] *",
   "language": "python",
   "name": "conda-base-py"
  },
  "language_info": {
   "codemirror_mode": {
    "name": "ipython",
    "version": 3
   },
   "file_extension": ".py",
   "mimetype": "text/x-python",
   "name": "python",
   "nbconvert_exporter": "python",
   "pygments_lexer": "ipython3",
   "version": "3.12.7"
  }
 },
 "nbformat": 4,
 "nbformat_minor": 5
}

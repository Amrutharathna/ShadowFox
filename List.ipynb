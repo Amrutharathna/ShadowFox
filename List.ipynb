{
 "cells": [
  {
   "cell_type": "code",
   "execution_count": null,
   "id": "673e2f0c-0ca2-495b-89e2-cdd416b5e8e1",
   "metadata": {},
   "outputs": [],
   "source": [
    "# You have a list of superheroes representing the Justice League. justice_league = [\"Superman\", \"Batman\", \"Wonder Woman\", \"Flash\", \"Aquaman\", \"Green Lantern\"] \n",
    "#Perform the following tasks: \n",
    "1. Calculate the number of members in the Justice League. \n",
    "2. Batman recruited Batgirl and Nightwing as new members.\n",
    " Add them to your list. \n",
    "3. Wonder Woman is now the leader of the Justice League.\n",
    " Move her to the beginning of the list. \n",
    "4. Aquaman and Flash are having conflicts, and you need to\n",
    " separate them. Choose either \"Green Lantern\" or \"Superman\"\n",
    " and move them in between Aquaman and Flash. \n",
    "5. The Justice League faced a crisis, and Superman decided to\n",
    " assemble a new team. Replace the existing list with the following\n",
    " new members: \"Cyborg\", \"Shazam\", \"Hawkgirl\", \"Martian\n",
    " Manhunter\", \"Green Arrow\". \n",
    "6. Sort the Justice League alphabetically. The hero at the 0th\n",
    " index will become the new leader. "
   ]
  }
 ],
 "metadata": {
  "kernelspec": {
   "display_name": "Python [conda env:base] *",
   "language": "python",
   "name": "conda-base-py"
  },
  "language_info": {
   "codemirror_mode": {
    "name": "ipython",
    "version": 3
   },
   "file_extension": ".py",
   "mimetype": "text/x-python",
   "name": "python",
   "nbconvert_exporter": "python",
   "pygments_lexer": "ipython3",
   "version": "3.12.7"
  }
 },
 "nbformat": 4,
 "nbformat_minor": 5
}
